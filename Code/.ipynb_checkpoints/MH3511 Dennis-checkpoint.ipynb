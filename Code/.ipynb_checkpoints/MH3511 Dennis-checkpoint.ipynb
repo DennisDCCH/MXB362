{
 "cells": [
  {
   "cell_type": "markdown",
   "id": "f5a7bc6a",
   "metadata": {},
   "source": [
    "### Which ISIC indicator is most important in affecting the GDP of Singapore? \n",
    "\n",
    "To explore this question, we will attempt to build multiple linear regression model to check the significance of GDP of Singapore against each ISIC indicator"
   ]
  },
  {
   "cell_type": "code",
   "execution_count": null,
   "id": "d49ddb1c",
   "metadata": {},
   "outputs": [],
   "source": [
    "#Remove null values\n",
    "clean_data <- na.omit(data_subset)\n",
    "\n",
    "#Get Singapore-related data only\n",
    "data_singapore <- subset(data_subset, Country == \"Singapore\")"
   ]
  },
  {
   "cell_type": "markdown",
   "id": "58f2c7b2",
   "metadata": {},
   "source": [
    "For doing linear regression, we cannot allow for null values to contain within the dataset, so we removed all rows that contain  null values. </br>\n",
    "Also, we will extract out Singapore's data specifically."
   ]
  },
  {
   "cell_type": "code",
   "execution_count": null,
   "id": "9c294ec8",
   "metadata": {},
   "outputs": [],
   "source": [
    "#Linear Regression Formula 1\n",
    "formula <- `Gross Domestic Product (GDP)` ~ \n",
    "  ` Agriculture, hunting, forestry, fishing (ISIC A-B) ` +\n",
    "  `Construction (ISIC F)` +\n",
    "  `Manufacturing (ISIC D)` +\n",
    "  ` Mining, Manufacturing, Utilities (ISIC C-E) ` +\n",
    "  ` Transport, storage and communication (ISIC I) ` +\n",
    "  ` Wholesale, retail trade, restaurants and hotels (ISIC G-H) `\n",
    "\n",
    "model <- lm(formula, data = data_singapore)\n",
    "summary(model)"
   ]
  },
  {
   "cell_type": "markdown",
   "id": "750d3b24",
   "metadata": {},
   "source": [
    "From the above results, we can see that the R-squared and Adjusted R-squared values are both very high, which are both considered a positive indicator for the model.\n",
    "\n",
    "We can conclude that there are 3 variables that are significant measures that could be used to model GDP which are Manufacturing (ISIC D), Transport, Storage and Communications (ISIC I) and lastly Wholesale, Retail Trade, Restaurants and Hotels (ISIC G-H). However, if we were to choose the best indicator, based on the lowest p-value, ISIC G-H would be the most important indicator in affecting the GDP of Singapore.\n"
   ]
  },
  {
   "cell_type": "markdown",
   "id": "6ac9677d",
   "metadata": {},
   "source": [
    "### How does the above ISIC indicator get affected by other ISIC factors?\n",
    "\n",
    "To explore this question, we will continue to do multiple linear regression model of  Wholesale, Retail Trade, Restaurants and Hotels (ISIC G-H) against the rest of the ISIC indicators. We do this for all the different countries available in the dataset."
   ]
  },
  {
   "cell_type": "code",
   "execution_count": null,
   "id": "39b4efb1",
   "metadata": {},
   "outputs": [],
   "source": [
    "#Getting a list of all the different countries \n",
    "countries <- unique(clean_data$Country)\n",
    "\n",
    "#Creating a dataframe to store the most significant indicator for each country\n",
    "most_significant_variables <- data.frame(Country = character(), \n",
    "                                         MostSignificantVariable = character(), \n",
    "                                         stringsAsFactors = FALSE)"
   ]
  },
  {
   "cell_type": "markdown",
   "id": "0e94ef97",
   "metadata": {},
   "source": [
    "Doing the multiple linear regression model for Singapore only specifically as an example."
   ]
  },
  {
   "cell_type": "code",
   "execution_count": null,
   "id": "076d89b2",
   "metadata": {},
   "outputs": [],
   "source": [
    "#Linear Regression Formula 2\n",
    "formula2 <- ` Wholesale, retail trade, restaurants and hotels (ISIC G-H) ` ~ \n",
    "  ` Agriculture, hunting, forestry, fishing (ISIC A-B) ` +\n",
    "  `Construction (ISIC F)` +\n",
    "  `Manufacturing (ISIC D)` +\n",
    "  ` Mining, Manufacturing, Utilities (ISIC C-E) ` +\n",
    "  ` Transport, storage and communication (ISIC I) `\n",
    "\n",
    "#Example of doing Linear regression with formula 2 for Singapore\n",
    "model2 <- lm(formula2, data = data_singapore)\n",
    "summary(model2)\n",
    "names(which.min(summary(model2)$coefficients[, \"Pr(>|t|)\"])) "
   ]
  },
  {
   "cell_type": "markdown",
   "id": "495106cd",
   "metadata": {},
   "source": [
    "From the above results, we will extract out the factor that have the lowest p-value and store this result in a dataframe. As seen above, for Singapore specifically, the most signifcant indicator for ISIC G-H is in fact none of the other ISIC indicator but the intercept instead.\n",
    "\n",
    "So now we will continue and do this for all the different countries."
   ]
  },
  {
   "cell_type": "code",
   "execution_count": null,
   "id": "0c70646a",
   "metadata": {},
   "outputs": [],
   "source": [
    "#Doing linear regression with formula 2 for all countries\n",
    "for(country in countries){\n",
    "  model2 <- lm(formula2, data = subset(clean_data, Country == country))\n",
    "  model_summary <- summary(model2)\n",
    "  most_significant_variable <- names(which.min(model_summary$coefficients[, \"Pr(>|t|)\"])) \n",
    "  most_significant_variables <- rbind(most_significant_variables, \n",
    "                                      cbind(Country = country, MostSignificantVariable = most_significant_variable))\n",
    "  \n",
    "}\n",
    "most_significant_variables"
   ]
  },
  {
   "cell_type": "markdown",
   "id": "c6ecb52a",
   "metadata": {},
   "source": [
    "With the above results, we will take note of the count that each indicator appears and do a barplot to show the result."
   ]
  },
  {
   "cell_type": "code",
   "execution_count": null,
   "id": "5eac6f8e",
   "metadata": {},
   "outputs": [],
   "source": [
    "#Plotting barplot\n",
    "ggplot(most_significant_variables, aes(x = MostSignificantVariable, fill = MostSignificantVariable)) +\n",
    "  geom_bar() +\n",
    "  scale_x_discrete(labels = c('Intercept', 'ISIC A-B', 'ISIC C-E', 'ISIC I', 'ISIC F', 'ISIC D')) +\n",
    "  labs(title = \"Number of Occurrences of Each Indicator\",\n",
    "       x = \"Indicator\",\n",
    "       y = \"Count\") +\n",
    "  theme_minimal()"
   ]
  },
  {
   "cell_type": "code",
   "execution_count": null,
   "id": "aae54373",
   "metadata": {},
   "outputs": [],
   "source": [
    "#Finding the variable that is pops up the most\n",
    "most_common_variable <- names(sort(table(most_significant_variables$MostSignificantVariable), decreasing = TRUE)[1])\n",
    "most_common_variable"
   ]
  },
  {
   "cell_type": "markdown",
   "id": "05ce81be",
   "metadata": {},
   "source": [
    "As seen from the barplot and the above result, the the indicator that appeared the most often is Transport, Storage and Communication (ISIC I). Thus, ISIC I is the most significant indicator in affecting ISIC G-H."
   ]
  }
 ],
 "metadata": {
  "kernelspec": {
   "display_name": "Python 3 (ipykernel)",
   "language": "python",
   "name": "python3"
  },
  "language_info": {
   "codemirror_mode": {
    "name": "ipython",
    "version": 3
   },
   "file_extension": ".py",
   "mimetype": "text/x-python",
   "name": "python",
   "nbconvert_exporter": "python",
   "pygments_lexer": "ipython3",
   "version": "3.9.12"
  }
 },
 "nbformat": 4,
 "nbformat_minor": 5
}
